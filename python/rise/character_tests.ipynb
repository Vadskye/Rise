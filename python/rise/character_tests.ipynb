{
 "cells": [
  {
   "cell_type": "code",
   "execution_count": 1,
   "metadata": {
    "collapsed": false,
    "deletable": true,
    "editable": true
   },
   "outputs": [
    {
     "data": {
      "text/plain": [
       "<module 'rise.simulator.creature_parsing' from '/home/kevin/github/Rise/python/rise/simulator/creature_parsing.py'>"
      ]
     },
     "execution_count": 1,
     "metadata": {},
     "output_type": "execute_result"
    }
   ],
   "source": [
    "import importlib\n",
    "import rise.simulator.creature_parsing as creature_parsing\n",
    "importlib.reload(creature_parsing)"
   ]
  },
  {
   "cell_type": "code",
   "execution_count": 6,
   "metadata": {
    "collapsed": false,
    "deletable": true,
    "editable": true
   },
   "outputs": [
    {
     "name": "stdout",
     "output_type": "stream",
     "text": [
      "human Warrior 2\n",
      "[HP] 15; [Defs] 7/7/5/6; [AP] 2/3\n",
      "[Atk] Longsword: +1 vs A (1d10)\n",
      "[Attr] 0 0 0 0 0 0\n",
      "[Space] 5, [Reach] 5, [Speed] 30\n",
      "\n",
      "human Warrior 5\n",
      "[HP] 30; [Defs] 10/10/8/9; [AP] 2/3\n",
      "[Atk] Longsword: +5 vs A (2d6)\n",
      "[Attr] 0 0 0 0 0 0\n",
      "[Space] 5, [Reach] 5, [Speed] 30\n",
      "\n",
      "human Warrior 8\n",
      "[HP] 45; [Defs] 13/13/11/12; [AP] 3/3\n",
      "[Atk] Longsword: +8 vs A (2d10)\n",
      "[Attr] 0 0 0 0 0 0\n",
      "[Space] 5, [Reach] 5, [Speed] 30\n",
      "\n",
      "human Warrior 11\n",
      "[HP] 60; [Defs] 16/16/14/15; [AP] 3/3\n",
      "[Atk] Longsword: +11 vs A (4d6)\n",
      "[Attr] 0 0 0 0 0 0\n",
      "[Space] 5, [Reach] 5, [Speed] 30\n",
      "\n",
      "human Warrior 14\n",
      "[HP] 75; [Defs] 19/19/17/18; [AP] 4/3\n",
      "[Atk] Longsword: +14 vs A (5d10)\n",
      "[Attr] 0 0 0 0 0 0\n",
      "[Space] 5, [Reach] 5, [Speed] 30\n",
      "\n"
     ]
    }
   ],
   "source": [
    "# Warrior stats\n",
    "for level in range(2, 15, 3):\n",
    "    warrior = creature_parsing.parse_creature(f\"warrior l{level} rage\")\n",
    "    print(warrior)\n",
    "    print()"
   ]
  }
 ],
 "metadata": {
  "kernelspec": {
   "display_name": "Python 3",
   "language": "python",
   "name": "python3"
  },
  "language_info": {
   "codemirror_mode": {
    "name": "ipython",
    "version": 3
   },
   "file_extension": ".py",
   "mimetype": "text/x-python",
   "name": "python",
   "nbconvert_exporter": "python",
   "pygments_lexer": "ipython3",
   "version": "3.6.6"
  }
 },
 "nbformat": 4,
 "nbformat_minor": 2
}
