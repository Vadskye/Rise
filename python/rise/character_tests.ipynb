{
 "cells": [
  {
   "cell_type": "code",
   "execution_count": 1,
   "metadata": {
    "collapsed": false
   },
   "outputs": [
    {
     "data": {
      "text/plain": [
       "<module 'rise.simulator.creature_parsing' from '/home/kevin/github/Rise/python/rise/simulator/creature_parsing.py'>"
      ]
     },
     "execution_count": 1,
     "metadata": {},
     "output_type": "execute_result"
    }
   ],
   "source": [
    "import importlib\n",
    "import rise.simulator.creature_parsing as creature_parsing\n",
    "importlib.reload(creature_parsing)"
   ]
  },
  {
   "cell_type": "code",
   "execution_count": 3,
   "metadata": {
    "collapsed": false
   },
   "outputs": [
    {
     "name": "stdout",
     "output_type": "stream",
     "text": [
      "human Warrior 2\n",
      "[HP] 15; [Defs] 7/7/5/6; [AP] 3/3\n",
      "[Atk] Longsword: +2 vs A (1d8)\n",
      "  Power Attack: +2 vs A (2d10)\n",
      "[Attr] 0 0 0 0 0 0\n",
      "[Space] 5, [Reach] 5, [Speed] 30\n",
      "\n",
      "human Warrior 7\n",
      "[HP] 40; [Defs] 12/12/10/11; [AP] 4/3\n",
      "[Atk] Longsword: +7 vs A (2d6)\n",
      "  Power Attack: +7 vs A (4d8)\n",
      "[Attr] 0 0 0 0 0 0\n",
      "[Space] 5, [Reach] 5, [Speed] 30\n",
      "\n",
      "human Warrior 12\n",
      "[HP] 65; [Defs] 17/17/15/16; [AP] 4/3\n",
      "[Atk] Longsword: +12 vs A (4d6)\n",
      "  Power Attack: +12 vs A (6d10)\n",
      "[Attr] 0 0 0 0 0 0\n",
      "[Space] 5, [Reach] 5, [Speed] 30\n",
      "\n",
      "human Warrior 17\n",
      "[HP] 90; [Defs] 22/22/20/21; [AP] 5/3\n",
      "[Atk] Longsword: +17 vs A (4d10)\n",
      "  Power Attack: +17 vs A (8d10)\n",
      "[Attr] 0 0 0 0 0 0\n",
      "[Space] 5, [Reach] 5, [Speed] 30\n",
      "\n"
     ]
    }
   ],
   "source": [
    "# Warrior stats\n",
    "for level in range(2, 21, 5):\n",
    "    warrior = creature_parsing.parse_creature(f\"warrior l{level} pa\")\n",
    "    print(warrior)\n",
    "    print()"
   ]
  }
 ],
 "metadata": {
  "kernelspec": {
   "display_name": "Python 3",
   "language": "python",
   "name": "python3"
  },
  "language_info": {
   "codemirror_mode": {
    "name": "ipython",
    "version": 3
   },
   "file_extension": ".py",
   "mimetype": "text/x-python",
   "name": "python",
   "nbconvert_exporter": "python",
   "pygments_lexer": "ipython3",
   "version": "3.6.6"
  }
 },
 "nbformat": 4,
 "nbformat_minor": 2
}
