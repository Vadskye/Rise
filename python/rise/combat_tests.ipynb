{
 "cells": [
  {
   "cell_type": "code",
   "execution_count": 1,
   "metadata": {
    "collapsed": false,
    "deletable": true,
    "editable": true
   },
   "outputs": [
    {
     "name": "stdout",
     "output_type": "stream",
     "text": [
      "Imports complete\n"
     ]
    }
   ],
   "source": [
    "import importlib\n",
    "import rise.simulator.run_combat as run_combat\n",
    "importlib.reload(run_combat)\n",
    "import rise.simulator.creature_parsing as creature_parsing\n",
    "importlib.reload(creature_parsing)\n",
    "import rise.statistics.creature as creature\n",
    "importlib.reload(creature)\n",
    "\n",
    "def quick_group(description, count):\n",
    "    return [description for i in range(count)]\n",
    "\n",
    "def quick_combat(blue_descriptions, red_descriptions, levels=None):\n",
    "    groups = creature_parsing.parse_leveled_creature_groups(\n",
    "        blue_descriptions,\n",
    "        red_descriptions,\n",
    "        levels,\n",
    "    )\n",
    "    for group in groups:\n",
    "        results = run_combat.run_combat(group['blue'], group['red'])\n",
    "        print(f\"  l{group['blue'][0].level}: {run_combat.format_combat_results(results)}\")\n",
    "print('Imports complete')"
   ]
  },
  {
   "cell_type": "code",
   "execution_count": 2,
   "metadata": {
    "collapsed": false,
    "deletable": true,
    "editable": true
   },
   "outputs": [
    {
     "name": "stdout",
     "output_type": "stream",
     "text": [
      "Group size 1\n",
      "  l2: Blue wins: time 2.99, 1 vs 0 alive, 16% vs 0% HP\n",
      "  l5: Blue wins: time 5.88, 1 vs 0 alive, 16% vs 0% HP\n",
      "  l8: Blue wins: time 3.73, 1 vs 0 alive, 12% vs 0% HP\n",
      "  l11: Blue wins: time 4.19, 1 vs 0 alive, 16% vs 0% HP\n",
      "  l14: Blue wins: time 2.52, 1 vs 0 alive, 22% vs 0% HP\n",
      "  l17: Blue wins: time 2.72, 1 vs 0 alive, 20% vs 0% HP\n",
      "  l20: Blue wins: time 2.45, 1 vs 0 alive, 15% vs 0% HP\n",
      "Group size 2\n",
      "  l2: Blue wins: time 3.71, 1 vs 0 alive, 26% vs 0% HP\n",
      "  l5: Blue wins: time 7.58, 1 vs 0 alive, 23% vs 0% HP\n",
      "  l8: Blue wins: time 4.84, 1 vs 0 alive, 20% vs 0% HP\n",
      "  l11: Blue wins: time 5.17, 1 vs 0 alive, 27% vs 0% HP\n",
      "  l14: Blue wins: time 3.06, 1 vs 0 alive, 33% vs 0% HP\n",
      "  l17: Blue wins: time 3.4, 1 vs 0 alive, 30% vs 0% HP\n",
      "  l20: Blue wins: time 3.22, 1 vs 0 alive, 23% vs 0% HP\n",
      "Group size 3\n",
      "  l2: Blue wins: time 3.71, 2 vs 0 alive, 34% vs 0% HP\n",
      "  l5: Blue wins: time 7.91, 1 vs 0 alive, 28% vs 0% HP\n",
      "  l8: Blue wins: time 5.02, 1 vs 0 alive, 28% vs 0% HP\n",
      "  l11: Blue wins: time 5.19, 2 vs 0 alive, 34% vs 0% HP\n",
      "  l14: Blue wins: time 3.18, 2 vs 0 alive, 39% vs 0% HP\n",
      "  l17: Blue wins: time 3.46, 2 vs 0 alive, 37% vs 0% HP\n",
      "  l20: Blue wins: time 3.26, 1 vs 0 alive, 31% vs 0% HP\n"
     ]
    }
   ],
   "source": [
    "# Action point testing\n",
    "for group_size in range(1, 4):\n",
    "    print(f\"Group size {group_size}\")\n",
    "    quick_combat(\n",
    "        ['warrior pa rage' for i in range(group_size)],\n",
    "        ['warrior pa' for i in range(group_size)],\n",
    "        'threes',\n",
    "    )"
   ]
  },
  {
   "cell_type": "code",
   "execution_count": 2,
   "metadata": {
    "collapsed": false
   },
   "outputs": [
    {
     "name": "stdout",
     "output_type": "stream",
     "text": [
      "Attribute score 0\n",
      "  l2: Tie wins: time 3.54, 0 vs 0 alive, 0% vs 0% HP\n",
      "  l5: Tie wins: time 7.03, 0 vs 0 alive, 0% vs 0% HP\n",
      "  l8: Tie wins: time 4.22, 0 vs 0 alive, 0% vs 0% HP\n",
      "  l11: Tie wins: time 5.02, 0 vs 0 alive, 0% vs 0% HP\n",
      "  l14: Tie wins: time 3.24, 0 vs 0 alive, 0% vs 0% HP\n",
      "  l17: Tie wins: time 3.4, 0 vs 0 alive, 0% vs 0% HP\n",
      "  l20: Tie wins: time 2.89, 0 vs 0 alive, 0% vs 0% HP\n",
      "Attribute score 1\n",
      "  l2: Tie wins: time 4.58, 0 vs 0 alive, 0% vs 0% HP\n",
      "  l5: Tie wins: time 8.82, 0 vs 0 alive, 0% vs 0% HP\n",
      "  l8: Tie wins: time 5.87, 0 vs 0 alive, 0% vs 0% HP\n",
      "  l11: Tie wins: time 6.82, 0 vs 0 alive, 0% vs 0% HP\n",
      "  l14: Tie wins: time 3.88, 0 vs 0 alive, 0% vs 0% HP\n",
      "  l17: Tie wins: time 4.08, 0 vs 0 alive, 0% vs 0% HP\n",
      "  l20: Tie wins: time 3.47, 0 vs 0 alive, 0% vs 0% HP\n",
      "Attribute score 2\n",
      "  l2: Tie wins: time 5.74, 0 vs 0 alive, 0% vs 0% HP\n",
      "  l5: Tie wins: time 8.12, 0 vs 0 alive, 0% vs 0% HP\n",
      "  l8: Tie wins: time 7.53, 0 vs 0 alive, 0% vs 0% HP\n",
      "  l11: Tie wins: time 6.08, 0 vs 0 alive, 0% vs 0% HP\n",
      "  l14: Tie wins: time 4.54, 0 vs 0 alive, 0% vs 0% HP\n",
      "  l17: Tie wins: time 4.24, 0 vs 0 alive, 0% vs 0% HP\n",
      "  l20: Tie wins: time 4.05, 0 vs 0 alive, 0% vs 0% HP\n",
      "Attribute score 3\n",
      "  l2: Tie wins: time 5.13, 0 vs 0 alive, 0% vs 0% HP\n",
      "  l5: Tie wins: time 9.55, 0 vs 0 alive, 0% vs 0% HP\n",
      "  l8: Tie wins: time 6.8, 0 vs 0 alive, 0% vs 0% HP\n",
      "  l11: Tie wins: time 7.51, 0 vs 0 alive, 0% vs 0% HP\n",
      "  l14: Tie wins: time 4.54, 0 vs 0 alive, 0% vs 0% HP\n",
      "  l17: Tie wins: time 4.84, 0 vs 0 alive, 0% vs 0% HP\n",
      "  l20: Tie wins: time 4.24, 0 vs 0 alive, 0% vs 0% HP\n",
      "Attribute score 4\n",
      "  l2: Tie wins: time 6.14, 0 vs 0 alive, 0% vs 0% HP\n",
      "  l5: Tie wins: time 8.2, 0 vs 0 alive, 0% vs 0% HP\n",
      "  l8: Tie wins: time 8.17, 0 vs 0 alive, 0% vs 0% HP\n",
      "  l11: Tie wins: time 6.63, 0 vs 0 alive, 0% vs 0% HP\n",
      "  l14: Tie wins: time 5.21, 0 vs 0 alive, 0% vs 0% HP\n",
      "  l17: Tie wins: time 4.9, 0 vs 0 alive, 0% vs 0% HP\n",
      "  l20: Tie wins: time 4.77, 0 vs 0 alive, 0% vs 0% HP\n"
     ]
    }
   ],
   "source": [
    "# Combat time testing\n",
    "group_size=1\n",
    "for attribute_score in range(0, 5):\n",
    "    print(f\"Attribute score {attribute_score}\")\n",
    "    attributes = ['str', 'dex', 'con', 'int', 'per', 'wil']\n",
    "    attribute_text = ' '.join([f\"{a}{attribute_score}\" for a in attributes])\n",
    "    quick_combat(\n",
    "        quick_group(f'warrior pa {attribute_text}', group_size),\n",
    "        quick_group(f'warrior pa {attribute_text}', group_size),\n",
    "        'threes',\n",
    "    )"
   ]
  },
  {
   "cell_type": "code",
   "execution_count": 3,
   "metadata": {
    "collapsed": false
   },
   "outputs": [
    {
     "name": "stdout",
     "output_type": "stream",
     "text": [
      "Per vs Con\n",
      "Attribute score 1\n",
      "  l2: Red wins: time 3.54, 0 vs 1 alive, 0% vs 23% HP\n",
      "  l7: Red wins: time 7.1, 0 vs 1 alive, 0% vs 21% HP\n",
      "  l12: Red wins: time 3.91, 0 vs 1 alive, 0% vs 27% HP\n",
      "  l17: Red wins: time 3.4, 0 vs 1 alive, 0% vs 17% HP\n",
      "Attribute score 2\n",
      "  l2: Red wins: time 3.54, 0 vs 1 alive, 0% vs 24% HP\n",
      "  l7: Red wins: time 7.1, 0 vs 1 alive, 0% vs 21% HP\n",
      "  l12: Red wins: time 3.91, 0 vs 1 alive, 0% vs 27% HP\n",
      "  l17: Red wins: time 3.4, 0 vs 1 alive, 0% vs 17% HP\n",
      "Attribute score 3\n",
      "  l2: Red wins: time 3.54, 0 vs 1 alive, 0% vs 24% HP\n",
      "  l7: Red wins: time 7.1, 0 vs 1 alive, 0% vs 21% HP\n",
      "  l12: Red wins: time 3.91, 0 vs 1 alive, 0% vs 27% HP\n",
      "  l17: Red wins: time 3.4, 0 vs 1 alive, 0% vs 17% HP\n",
      "Attribute score 4\n",
      "  l2: Red wins: time 3.54, 0 vs 1 alive, 0% vs 25% HP\n",
      "  l7: Red wins: time 7.1, 0 vs 1 alive, 0% vs 21% HP\n",
      "  l12: Red wins: time 3.91, 0 vs 1 alive, 0% vs 27% HP\n",
      "  l17: Red wins: time 3.4, 0 vs 1 alive, 0% vs 17% HP\n",
      "\n",
      "Str vs Con\n",
      "Attribute score 1\n",
      "  l2: Red wins: time 3.54, 0 vs 1 alive, 0% vs 23% HP\n",
      "  l7: Red wins: time 7.1, 0 vs 1 alive, 0% vs 21% HP\n",
      "  l12: Red wins: time 3.91, 0 vs 1 alive, 0% vs 27% HP\n",
      "  l17: Red wins: time 3.4, 0 vs 1 alive, 0% vs 17% HP\n",
      "Attribute score 2\n",
      "  l2: Red wins: time 3.54, 0 vs 1 alive, 0% vs 37% HP\n",
      "  l7: Red wins: time 7.1, 0 vs 1 alive, 0% vs 11% HP\n",
      "  l12: Red wins: time 3.91, 0 vs 1 alive, 0% vs 43% HP\n",
      "  l17: Red wins: time 3.4, 0 vs 1 alive, 0% vs 20% HP\n",
      "Attribute score 3\n",
      "  l2: Red wins: time 3.54, 0 vs 1 alive, 0% vs 28% HP\n",
      "  l7: Red wins: time 7.1, 0 vs 1 alive, 0% vs 25% HP\n",
      "  l12: Red wins: time 3.91, 0 vs 1 alive, 0% vs 37% HP\n",
      "  l17: Red wins: time 3.4, 0 vs 1 alive, 0% vs 30% HP\n",
      "Attribute score 4\n",
      "  l2: Red wins: time 3.54, 0 vs 1 alive, 0% vs 39% HP\n",
      "  l7: Red wins: time 7.1, 0 vs 1 alive, 0% vs 13% HP\n",
      "  l12: Red wins: time 3.91, 0 vs 1 alive, 0% vs 47% HP\n",
      "  l17: Red wins: time 3.4, 0 vs 1 alive, 0% vs 31% HP\n"
     ]
    }
   ],
   "source": [
    "group_size=1\n",
    "# Attribute point testing\n",
    "print(\"Per vs Con\")\n",
    "for attribute_score in range(1, 5):\n",
    "    print(f\"Attribute score {attribute_score}\")\n",
    "    quick_combat(\n",
    "        quick_group(f'warrior per{attribute_score} pa', group_size),\n",
    "        quick_group(f'warrior con{attribute_score} pa', group_size),\n",
    "        'std',\n",
    "    )\n",
    "\n",
    "print(\"\\nStr vs Con\")\n",
    "for attribute_score in range(1, 5):\n",
    "    print(f\"Attribute score {attribute_score}\")\n",
    "    quick_combat(\n",
    "        quick_group(f'warrior str{attribute_score} pa', group_size),\n",
    "        quick_group(f'warrior con{attribute_score} pa', group_size),\n",
    "        'std',\n",
    "    )"
   ]
  },
  {
   "cell_type": "code",
   "execution_count": 5,
   "metadata": {
    "collapsed": false,
    "deletable": true,
    "editable": true
   },
   "outputs": [
    {
     "name": "stdout",
     "output_type": "stream",
     "text": [
      "Group size 3\n",
      "  l2: Red wins: time 8.18, 0 vs 1 alive, 0% vs 76% HP\n",
      "  l7: Red wins: time 10.91, 0 vs 1 alive, 0% vs 76% HP\n",
      "  l12: Red wins: time 11.28, 0 vs 1 alive, 0% vs 76% HP\n",
      "  l17: Red wins: time 8.93, 0 vs 1 alive, 0% vs 73% HP\n",
      "Group size 4\n",
      "  l2: Red wins: time 10.91, 0 vs 1 alive, 0% vs 59% HP\n",
      "  l7: Red wins: time 14.55, 0 vs 1 alive, 0% vs 60% HP\n",
      "  l12: Red wins: time 15.04, 0 vs 1 alive, 0% vs 60% HP\n",
      "  l17: Red wins: time 11.9, 0 vs 1 alive, 0% vs 54% HP\n",
      "Group size 5\n",
      "  l2: Red wins: time 13.64, 0 vs 1 alive, 0% vs 38% HP\n",
      "  l7: Red wins: time 18.18, 0 vs 1 alive, 0% vs 40% HP\n",
      "  l12: Red wins: time 18.8, 0 vs 1 alive, 0% vs 40% HP\n",
      "  l17: Red wins: time 14.88, 0 vs 1 alive, 0% vs 30% HP\n",
      "Group size 6\n",
      "  l2: Red wins: time 16.36, 0 vs 1 alive, 0% vs 13% HP\n",
      "  l7: Red wins: time 21.82, 0 vs 1 alive, 0% vs 14% HP\n",
      "  l12: Red wins: time 22.56, 0 vs 1 alive, 0% vs 13% HP\n",
      "  l17: Blue wins: time 15.06, 1 vs 0 alive, 16% vs 0% HP\n"
     ]
    }
   ],
   "source": [
    "# Aboleth testing\n",
    "for group_size in range(3, 7):\n",
    "    print(f\"Group size {group_size}\")\n",
    "    quick_combat(\n",
    "        ['fighter power_attack' for i in range(group_size)],\n",
    "        ['aboleth'],\n",
    "        'std',\n",
    "    )"
   ]
  }
 ],
 "metadata": {
  "kernelspec": {
   "display_name": "Python 3",
   "language": "python",
   "name": "python3"
  },
  "language_info": {
   "codemirror_mode": {
    "name": "ipython",
    "version": 3
   },
   "file_extension": ".py",
   "mimetype": "text/x-python",
   "name": "python",
   "nbconvert_exporter": "python",
   "pygments_lexer": "ipython3",
   "version": "3.6.6"
  }
 },
 "nbformat": 4,
 "nbformat_minor": 2
}
