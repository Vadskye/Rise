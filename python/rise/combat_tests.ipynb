{
 "cells": [
  {
   "cell_type": "code",
   "execution_count": 1,
   "metadata": {
    "collapsed": false,
    "deletable": true,
    "editable": true
   },
   "outputs": [
    {
     "name": "stdout",
     "output_type": "stream",
     "text": [
      "Imports complete\n"
     ]
    }
   ],
   "source": [
    "import importlib\n",
    "import rise.simulator.run_combat as run_combat\n",
    "importlib.reload(run_combat)\n",
    "import rise.simulator.creature_parsing as creature_parsing\n",
    "importlib.reload(creature_parsing)\n",
    "import rise.statistics.creature as creature\n",
    "importlib.reload(creature)\n",
    "\n",
    "def quick_group(description, count):\n",
    "    return [description for i in range(count)]\n",
    "\n",
    "def quick_combat(blue_descriptions, red_descriptions, levels=None):\n",
    "    groups = creature_parsing.parse_leveled_creature_groups(\n",
    "        blue_descriptions,\n",
    "        red_descriptions,\n",
    "        levels,\n",
    "    )\n",
    "    for group in groups:\n",
    "        results = run_combat.run_combat(group['blue'], group['red'])\n",
    "        print(f\"  l{group['blue'][0].level}: {run_combat.format_combat_results(results)}\")\n",
    "print('Imports complete')"
   ]
  },
  {
   "cell_type": "code",
   "execution_count": 7,
   "metadata": {
    "collapsed": false
   },
   "outputs": [
    {
     "name": "stdout",
     "output_type": "stream",
     "text": [
      "Group size 2\n",
      "  l2: Blue wins: time 3.35, 2 vs 0 alive, 68% vs 0% HP\n",
      "Group size 3\n",
      "  l2: Blue wins: time 2.23, 3 vs 0 alive, 86% vs 0% HP\n"
     ]
    }
   ],
   "source": [
    "# Monster tests\n",
    "for group_size in range(2, 4):\n",
    "    print(f\"Group size {group_size}\")\n",
    "    quick_combat(\n",
    "        quick_group('fighter pa', group_size),\n",
    "        ['unliving_mother'],\n",
    "        '2'\n",
    "    )"
   ]
  },
  {
   "cell_type": "code",
   "execution_count": 3,
   "metadata": {
    "collapsed": false,
    "deletable": true,
    "editable": true
   },
   "outputs": [
    {
     "name": "stdout",
     "output_type": "stream",
     "text": [
      "Group size 1\n",
      "  l2: Blue wins: time 2.99, 1 vs 0 alive, 16% vs 0% HP\n",
      "  l5: Blue wins: time 5.88, 1 vs 0 alive, 16% vs 0% HP\n",
      "  l8: Blue wins: time 3.73, 1 vs 0 alive, 12% vs 0% HP\n",
      "  l11: Blue wins: time 4.19, 1 vs 0 alive, 16% vs 0% HP\n",
      "  l14: Blue wins: time 2.52, 1 vs 0 alive, 22% vs 0% HP\n",
      "  l17: Blue wins: time 2.72, 1 vs 0 alive, 20% vs 0% HP\n",
      "  l20: Blue wins: time 2.45, 1 vs 0 alive, 15% vs 0% HP\n",
      "Group size 2\n",
      "  l2: Blue wins: time 3.71, 1 vs 0 alive, 26% vs 0% HP\n",
      "  l5: Blue wins: time 7.58, 1 vs 0 alive, 23% vs 0% HP\n",
      "  l8: Blue wins: time 4.84, 1 vs 0 alive, 20% vs 0% HP\n",
      "  l11: Blue wins: time 5.17, 1 vs 0 alive, 27% vs 0% HP\n",
      "  l14: Blue wins: time 3.06, 1 vs 0 alive, 33% vs 0% HP\n",
      "  l17: Blue wins: time 3.4, 1 vs 0 alive, 30% vs 0% HP\n",
      "  l20: Blue wins: time 3.22, 1 vs 0 alive, 23% vs 0% HP\n",
      "Group size 3\n",
      "  l2: Blue wins: time 3.71, 2 vs 0 alive, 34% vs 0% HP\n",
      "  l5: Blue wins: time 7.91, 1 vs 0 alive, 28% vs 0% HP\n",
      "  l8: Blue wins: time 5.02, 1 vs 0 alive, 28% vs 0% HP\n",
      "  l11: Blue wins: time 5.19, 2 vs 0 alive, 34% vs 0% HP\n",
      "  l14: Blue wins: time 3.18, 2 vs 0 alive, 39% vs 0% HP\n",
      "  l17: Blue wins: time 3.46, 2 vs 0 alive, 37% vs 0% HP\n",
      "  l20: Blue wins: time 3.26, 1 vs 0 alive, 31% vs 0% HP\n"
     ]
    }
   ],
   "source": [
    "# Action point testing\n",
    "for group_size in range(1, 4):\n",
    "    print(f\"Group size {group_size}\")\n",
    "    quick_combat(\n",
    "        ['warrior pa rage' for i in range(group_size)],\n",
    "        ['warrior pa' for i in range(group_size)],\n",
    "        'threes',\n",
    "    )"
   ]
  },
  {
   "cell_type": "code",
   "execution_count": 4,
   "metadata": {
    "collapsed": false
   },
   "outputs": [
    {
     "name": "stdout",
     "output_type": "stream",
     "text": [
      "Attribute score 0\n"
     ]
    },
    {
     "ename": "Exception",
     "evalue": "Only one level modifier should exist! (['pa', 'str0', 'dex0', 'con0', 'int0', 'per0', 'wil0', 'l2'])",
     "output_type": "error",
     "traceback": [
      "\u001b[0;31m---------------------------------------------------------------------------\u001b[0m",
      "\u001b[0;31mException\u001b[0m                                 Traceback (most recent call last)",
      "\u001b[0;32m<ipython-input-4-a044ac591a9b>\u001b[0m in \u001b[0;36m<module>\u001b[0;34m()\u001b[0m\n\u001b[1;32m      8\u001b[0m         \u001b[0mquick_group\u001b[0m\u001b[0;34m(\u001b[0m\u001b[0;34mf'warrior pa {attribute_text}'\u001b[0m\u001b[0;34m,\u001b[0m \u001b[0mgroup_size\u001b[0m\u001b[0;34m)\u001b[0m\u001b[0;34m,\u001b[0m\u001b[0;34m\u001b[0m\u001b[0m\n\u001b[1;32m      9\u001b[0m         \u001b[0mquick_group\u001b[0m\u001b[0;34m(\u001b[0m\u001b[0;34mf'warrior pa {attribute_text}'\u001b[0m\u001b[0;34m,\u001b[0m \u001b[0mgroup_size\u001b[0m\u001b[0;34m)\u001b[0m\u001b[0;34m,\u001b[0m\u001b[0;34m\u001b[0m\u001b[0m\n\u001b[0;32m---> 10\u001b[0;31m         \u001b[0;34m'threes'\u001b[0m\u001b[0;34m,\u001b[0m\u001b[0;34m\u001b[0m\u001b[0m\n\u001b[0m\u001b[1;32m     11\u001b[0m     )\n",
      "\u001b[0;32m<ipython-input-1-330ddf27dbfe>\u001b[0m in \u001b[0;36mquick_combat\u001b[0;34m(blue_descriptions, red_descriptions, levels)\u001b[0m\n\u001b[1;32m     14\u001b[0m         \u001b[0mblue_descriptions\u001b[0m\u001b[0;34m,\u001b[0m\u001b[0;34m\u001b[0m\u001b[0m\n\u001b[1;32m     15\u001b[0m         \u001b[0mred_descriptions\u001b[0m\u001b[0;34m,\u001b[0m\u001b[0;34m\u001b[0m\u001b[0m\n\u001b[0;32m---> 16\u001b[0;31m         \u001b[0mlevels\u001b[0m\u001b[0;34m,\u001b[0m\u001b[0;34m\u001b[0m\u001b[0m\n\u001b[0m\u001b[1;32m     17\u001b[0m     )\n\u001b[1;32m     18\u001b[0m     \u001b[0;32mfor\u001b[0m \u001b[0mgroup\u001b[0m \u001b[0;32min\u001b[0m \u001b[0mgroups\u001b[0m\u001b[0;34m:\u001b[0m\u001b[0;34m\u001b[0m\u001b[0m\n",
      "\u001b[0;32m/home/kevin/github/Rise/python/rise/simulator/creature_parsing.py\u001b[0m in \u001b[0;36mparse_leveled_creature_groups\u001b[0;34m(blue_descriptions, red_descriptions, levels)\u001b[0m\n\u001b[1;32m     64\u001b[0m             \u001b[0mred_leveled\u001b[0m \u001b[0;34m=\u001b[0m \u001b[0;34m[\u001b[0m\u001b[0md\u001b[0m \u001b[0;34m+\u001b[0m \u001b[0;34mf\" l{level}\"\u001b[0m \u001b[0;32mfor\u001b[0m \u001b[0md\u001b[0m \u001b[0;32min\u001b[0m \u001b[0mred_descriptions\u001b[0m\u001b[0;34m]\u001b[0m\u001b[0;34m\u001b[0m\u001b[0m\n\u001b[1;32m     65\u001b[0m             creature_groups.append({\n\u001b[0;32m---> 66\u001b[0;31m                 \u001b[0;34m'blue'\u001b[0m\u001b[0;34m:\u001b[0m \u001b[0;34m[\u001b[0m\u001b[0mparse_creature\u001b[0m\u001b[0;34m(\u001b[0m\u001b[0md\u001b[0m\u001b[0;34m,\u001b[0m \u001b[0msample_info\u001b[0m\u001b[0;34m)\u001b[0m \u001b[0;32mfor\u001b[0m \u001b[0md\u001b[0m \u001b[0;32min\u001b[0m \u001b[0mblue_leveled\u001b[0m\u001b[0;34m]\u001b[0m\u001b[0;34m,\u001b[0m\u001b[0;34m\u001b[0m\u001b[0m\n\u001b[0m\u001b[1;32m     67\u001b[0m                 \u001b[0;34m'red'\u001b[0m\u001b[0;34m:\u001b[0m \u001b[0;34m[\u001b[0m\u001b[0mparse_creature\u001b[0m\u001b[0;34m(\u001b[0m\u001b[0md\u001b[0m\u001b[0;34m,\u001b[0m \u001b[0msample_info\u001b[0m\u001b[0;34m)\u001b[0m \u001b[0;32mfor\u001b[0m \u001b[0md\u001b[0m \u001b[0;32min\u001b[0m \u001b[0mred_leveled\u001b[0m\u001b[0;34m]\u001b[0m\u001b[0;34m,\u001b[0m\u001b[0;34m\u001b[0m\u001b[0m\n\u001b[1;32m     68\u001b[0m             })\n",
      "\u001b[0;32m/home/kevin/github/Rise/python/rise/simulator/creature_parsing.py\u001b[0m in \u001b[0;36m<listcomp>\u001b[0;34m(.0)\u001b[0m\n\u001b[1;32m     64\u001b[0m             \u001b[0mred_leveled\u001b[0m \u001b[0;34m=\u001b[0m \u001b[0;34m[\u001b[0m\u001b[0md\u001b[0m \u001b[0;34m+\u001b[0m \u001b[0;34mf\" l{level}\"\u001b[0m \u001b[0;32mfor\u001b[0m \u001b[0md\u001b[0m \u001b[0;32min\u001b[0m \u001b[0mred_descriptions\u001b[0m\u001b[0;34m]\u001b[0m\u001b[0;34m\u001b[0m\u001b[0m\n\u001b[1;32m     65\u001b[0m             creature_groups.append({\n\u001b[0;32m---> 66\u001b[0;31m                 \u001b[0;34m'blue'\u001b[0m\u001b[0;34m:\u001b[0m \u001b[0;34m[\u001b[0m\u001b[0mparse_creature\u001b[0m\u001b[0;34m(\u001b[0m\u001b[0md\u001b[0m\u001b[0;34m,\u001b[0m \u001b[0msample_info\u001b[0m\u001b[0;34m)\u001b[0m \u001b[0;32mfor\u001b[0m \u001b[0md\u001b[0m \u001b[0;32min\u001b[0m \u001b[0mblue_leveled\u001b[0m\u001b[0;34m]\u001b[0m\u001b[0;34m,\u001b[0m\u001b[0;34m\u001b[0m\u001b[0m\n\u001b[0m\u001b[1;32m     67\u001b[0m                 \u001b[0;34m'red'\u001b[0m\u001b[0;34m:\u001b[0m \u001b[0;34m[\u001b[0m\u001b[0mparse_creature\u001b[0m\u001b[0;34m(\u001b[0m\u001b[0md\u001b[0m\u001b[0;34m,\u001b[0m \u001b[0msample_info\u001b[0m\u001b[0;34m)\u001b[0m \u001b[0;32mfor\u001b[0m \u001b[0md\u001b[0m \u001b[0;32min\u001b[0m \u001b[0mred_leveled\u001b[0m\u001b[0;34m]\u001b[0m\u001b[0;34m,\u001b[0m\u001b[0;34m\u001b[0m\u001b[0m\n\u001b[1;32m     68\u001b[0m             })\n",
      "\u001b[0;32m/home/kevin/github/Rise/python/rise/simulator/creature_parsing.py\u001b[0m in \u001b[0;36mparse_creature\u001b[0;34m(creature_text, sample_info)\u001b[0m\n\u001b[1;32m      8\u001b[0m     \u001b[0mname\u001b[0m \u001b[0;34m=\u001b[0m \u001b[0mtokens\u001b[0m\u001b[0;34m[\u001b[0m\u001b[0;36m0\u001b[0m\u001b[0;34m]\u001b[0m\u001b[0;34m\u001b[0m\u001b[0m\n\u001b[1;32m      9\u001b[0m     \u001b[0mcreature\u001b[0m \u001b[0;34m=\u001b[0m \u001b[0mcopy\u001b[0m\u001b[0;34m(\u001b[0m\u001b[0msample_info\u001b[0m\u001b[0;34m[\u001b[0m\u001b[0;34m'characters'\u001b[0m\u001b[0;34m]\u001b[0m\u001b[0;34m.\u001b[0m\u001b[0mget\u001b[0m\u001b[0;34m(\u001b[0m\u001b[0mname\u001b[0m\u001b[0;34m)\u001b[0m \u001b[0;32mor\u001b[0m \u001b[0msample_info\u001b[0m\u001b[0;34m[\u001b[0m\u001b[0;34m'monsters'\u001b[0m\u001b[0;34m]\u001b[0m\u001b[0;34m.\u001b[0m\u001b[0mget\u001b[0m\u001b[0;34m(\u001b[0m\u001b[0mname\u001b[0m\u001b[0;34m)\u001b[0m\u001b[0;34m)\u001b[0m\u001b[0;34m\u001b[0m\u001b[0m\n\u001b[0;32m---> 10\u001b[0;31m     \u001b[0mmodifier_names\u001b[0m \u001b[0;34m=\u001b[0m \u001b[0msort_modifier_names\u001b[0m\u001b[0;34m(\u001b[0m\u001b[0mtokens\u001b[0m\u001b[0;34m[\u001b[0m\u001b[0;36m1\u001b[0m\u001b[0;34m:\u001b[0m\u001b[0;34m]\u001b[0m\u001b[0;34m)\u001b[0m\u001b[0;34m\u001b[0m\u001b[0m\n\u001b[0m\u001b[1;32m     11\u001b[0m     \u001b[0;32mfor\u001b[0m \u001b[0mmodifier_name\u001b[0m \u001b[0;32min\u001b[0m \u001b[0mmodifier_names\u001b[0m\u001b[0;34m:\u001b[0m\u001b[0;34m\u001b[0m\u001b[0m\n\u001b[1;32m     12\u001b[0m         \u001b[0msample_info\u001b[0m\u001b[0;34m[\u001b[0m\u001b[0;34m'modifiers'\u001b[0m\u001b[0;34m]\u001b[0m\u001b[0;34m[\u001b[0m\u001b[0mmodifier_name\u001b[0m\u001b[0;34m]\u001b[0m\u001b[0;34m(\u001b[0m\u001b[0mcreature\u001b[0m\u001b[0;34m)\u001b[0m\u001b[0;34m\u001b[0m\u001b[0m\n",
      "\u001b[0;32m/home/kevin/github/Rise/python/rise/simulator/creature_parsing.py\u001b[0m in \u001b[0;36msort_modifier_names\u001b[0;34m(modifier_names)\u001b[0m\n\u001b[1;32m     24\u001b[0m             \u001b[0mnonlevels\u001b[0m\u001b[0;34m.\u001b[0m\u001b[0mappend\u001b[0m\u001b[0;34m(\u001b[0m\u001b[0mm\u001b[0m\u001b[0;34m)\u001b[0m\u001b[0;34m\u001b[0m\u001b[0m\n\u001b[1;32m     25\u001b[0m     \u001b[0;32mif\u001b[0m \u001b[0mlen\u001b[0m\u001b[0;34m(\u001b[0m\u001b[0mlevels\u001b[0m\u001b[0;34m)\u001b[0m \u001b[0;34m>\u001b[0m \u001b[0;36m1\u001b[0m\u001b[0;34m:\u001b[0m\u001b[0;34m\u001b[0m\u001b[0m\n\u001b[0;32m---> 26\u001b[0;31m         \u001b[0;32mraise\u001b[0m \u001b[0mException\u001b[0m\u001b[0;34m(\u001b[0m\u001b[0;34mf\"Only one level modifier should exist! ({modifier_names})\"\u001b[0m\u001b[0;34m)\u001b[0m\u001b[0;34m\u001b[0m\u001b[0m\n\u001b[0m\u001b[1;32m     27\u001b[0m     \u001b[0;32mreturn\u001b[0m \u001b[0mlevels\u001b[0m \u001b[0;34m+\u001b[0m \u001b[0msorted\u001b[0m\u001b[0;34m(\u001b[0m\u001b[0mnonlevels\u001b[0m\u001b[0;34m)\u001b[0m\u001b[0;34m\u001b[0m\u001b[0m\n\u001b[1;32m     28\u001b[0m \u001b[0;34m\u001b[0m\u001b[0m\n",
      "\u001b[0;31mException\u001b[0m: Only one level modifier should exist! (['pa', 'str0', 'dex0', 'con0', 'int0', 'per0', 'wil0', 'l2'])"
     ]
    }
   ],
   "source": [
    "# Combat time testing\n",
    "group_size=1\n",
    "for attribute_score in range(0, 5):\n",
    "    print(f\"Attribute score {attribute_score}\")\n",
    "    attributes = ['str', 'dex', 'con', 'int', 'per', 'wil']\n",
    "    attribute_text = ' '.join([f\"{a}{attribute_score}\" for a in attributes])\n",
    "    quick_combat(\n",
    "        quick_group(f'warrior pa {attribute_text}', group_size),\n",
    "        quick_group(f'warrior pa {attribute_text}', group_size),\n",
    "        'threes',\n",
    "    )"
   ]
  },
  {
   "cell_type": "code",
   "execution_count": null,
   "metadata": {
    "collapsed": false
   },
   "outputs": [],
   "source": [
    "group_size=1\n",
    "# Attribute point testing\n",
    "print(\"Per vs Con\")\n",
    "for attribute_score in range(1, 5):\n",
    "    print(f\"Attribute score {attribute_score}\")\n",
    "    quick_combat(\n",
    "        quick_group(f'warrior per{attribute_score} pa', group_size),\n",
    "        quick_group(f'warrior con{attribute_score} pa', group_size),\n",
    "        'std',\n",
    "    )\n",
    "\n",
    "print(\"\\nStr vs Con\")\n",
    "for attribute_score in range(1, 5):\n",
    "    print(f\"Attribute score {attribute_score}\")\n",
    "    quick_combat(\n",
    "        quick_group(f'warrior str{attribute_score} pa', group_size),\n",
    "        quick_group(f'warrior con{attribute_score} pa', group_size),\n",
    "        'std',\n",
    "    )"
   ]
  },
  {
   "cell_type": "code",
   "execution_count": null,
   "metadata": {
    "collapsed": false,
    "deletable": true,
    "editable": true
   },
   "outputs": [],
   "source": [
    "# Aboleth testing\n",
    "for group_size in range(3, 7):\n",
    "    print(f\"Group size {group_size}\")\n",
    "    quick_combat(\n",
    "        ['fighter power_attack' for i in range(group_size)],\n",
    "        ['aboleth'],\n",
    "        'std',\n",
    "    )"
   ]
  }
 ],
 "metadata": {
  "kernelspec": {
   "display_name": "Python 3",
   "language": "python",
   "name": "python3"
  },
  "language_info": {
   "codemirror_mode": {
    "name": "ipython",
    "version": 3
   },
   "file_extension": ".py",
   "mimetype": "text/x-python",
   "name": "python",
   "nbconvert_exporter": "python",
   "pygments_lexer": "ipython3",
   "version": "3.6.6"
  }
 },
 "nbformat": 4,
 "nbformat_minor": 2
}
