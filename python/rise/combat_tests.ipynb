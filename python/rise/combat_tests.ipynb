{
 "cells": [
  {
   "cell_type": "code",
   "execution_count": 37,
   "metadata": {
    "collapsed": false,
    "deletable": true,
    "editable": true
   },
   "outputs": [
    {
     "name": "stdout",
     "output_type": "stream",
     "text": [
      "Imports complete\n"
     ]
    }
   ],
   "source": [
    "import importlib\n",
    "import rise.simulator.run_combat as run_combat\n",
    "importlib.reload(run_combat)\n",
    "import rise.simulator.creature_parsing as creature_parsing\n",
    "importlib.reload(creature_parsing)\n",
    "import rise.statistics.creature as creature\n",
    "importlib.reload(creature)\n",
    "\n",
    "def quick_group(description, count):\n",
    "    return [description for i in range(count)]\n",
    "\n",
    "def quick_combat(blue_descriptions, red_descriptions, levels=None):\n",
    "    groups = creature_parsing.parse_leveled_creature_groups(\n",
    "        blue_descriptions,\n",
    "        red_descriptions,\n",
    "        levels,\n",
    "    )\n",
    "    for group in groups:\n",
    "        results = run_combat.run_combat(group['blue'], group['red'])\n",
    "        print('  ' + run_combat.format_combat_results(results))\n",
    "print('Imports complete')"
   ]
  },
  {
   "cell_type": "code",
   "execution_count": 38,
   "metadata": {
    "collapsed": false
   },
   "outputs": [
    {
     "name": "stdout",
     "output_type": "stream",
     "text": [
      "Per vs Con\n",
      "Attribute score 1\n",
      "  Red wins: time 3.52, 0 vs 1 alive, 0% vs 29% HP\n",
      "  Red wins: time 6.11, 0 vs 2 alive, 0% vs 38% HP\n",
      "  Red wins: time 4.91, 0 vs 2 alive, 0% vs 39% HP\n",
      "  Red wins: time 5.62, 0 vs 1 alive, 0% vs 29% HP\n",
      "Attribute score 2\n",
      "  Red wins: time 3.61, 0 vs 1 alive, 0% vs 27% HP\n",
      "  Red wins: time 6.14, 0 vs 2 alive, 0% vs 36% HP\n",
      "  Red wins: time 4.95, 0 vs 2 alive, 0% vs 37% HP\n",
      "  Red wins: time 5.88, 0 vs 1 alive, 0% vs 25% HP\n",
      "Attribute score 3\n",
      "  Red wins: time 3.68, 0 vs 1 alive, 0% vs 25% HP\n",
      "  Red wins: time 6.16, 0 vs 2 alive, 0% vs 35% HP\n",
      "  Red wins: time 4.98, 0 vs 2 alive, 0% vs 35% HP\n",
      "  Red wins: time 6.08, 0 vs 1 alive, 0% vs 22% HP\n",
      "Attribute score 4\n",
      "  Red wins: time 3.74, 0 vs 1 alive, 0% vs 24% HP\n",
      "  Red wins: time 6.17, 0 vs 2 alive, 0% vs 34% HP\n",
      "  Red wins: time 5.01, 0 vs 2 alive, 0% vs 33% HP\n",
      "  Red wins: time 6.23, 0 vs 1 alive, 0% vs 20% HP\n",
      "\n",
      "Str vs Con\n",
      "Attribute score 1\n",
      "  Red wins: time 3.52, 0 vs 1 alive, 0% vs 29% HP\n",
      "  Red wins: time 6.11, 0 vs 2 alive, 0% vs 38% HP\n",
      "  Red wins: time 4.91, 0 vs 2 alive, 0% vs 39% HP\n",
      "  Red wins: time 5.62, 0 vs 1 alive, 0% vs 29% HP\n",
      "Attribute score 2\n",
      "  Red wins: time 3.1, 0 vs 2 alive, 0% vs 48% HP\n",
      "  Red wins: time 6.56, 0 vs 1 alive, 0% vs 29% HP\n",
      "  Red wins: time 4.66, 0 vs 2 alive, 0% vs 54% HP\n",
      "  Red wins: time 5.41, 0 vs 1 alive, 0% vs 31% HP\n",
      "Attribute score 3\n",
      "  Red wins: time 3.39, 0 vs 1 alive, 0% vs 31% HP\n",
      "  Red wins: time 6.06, 0 vs 2 alive, 0% vs 42% HP\n",
      "  Red wins: time 4.75, 0 vs 2 alive, 0% vs 48% HP\n",
      "  Red wins: time 5.04, 0 vs 2 alive, 0% vs 45% HP\n",
      "Attribute score 4\n",
      "  Red wins: time 3.12, 0 vs 2 alive, 0% vs 47% HP\n",
      "  Red wins: time 6.52, 0 vs 1 alive, 0% vs 29% HP\n",
      "  Red wins: time 4.55, 0 vs 2 alive, 0% vs 58% HP\n",
      "  Red wins: time 5.05, 0 vs 2 alive, 0% vs 44% HP\n"
     ]
    }
   ],
   "source": [
    "group_size=3\n",
    "# Attribute point testing\n",
    "print(\"Per vs Con\")\n",
    "for attribute_score in range(1, 5):\n",
    "    print(f\"Attribute score {attribute_score}\")\n",
    "    quick_combat(\n",
    "        quick_group(f'warrior per{attribute_score} pa', group_size),\n",
    "        quick_group(f'warrior con{attribute_score} pa', group_size),\n",
    "        'std',\n",
    "    )\n",
    "\n",
    "print(\"\\nStr vs Con\")\n",
    "for attribute_score in range(1, 5):\n",
    "    print(f\"Attribute score {attribute_score}\")\n",
    "    quick_combat(\n",
    "        quick_group(f'warrior str{attribute_score} pa', group_size),\n",
    "        quick_group(f'warrior con{attribute_score} pa', group_size),\n",
    "        'std',\n",
    "    )"
   ]
  },
  {
   "cell_type": "code",
   "execution_count": 3,
   "metadata": {
    "collapsed": false,
    "deletable": true,
    "editable": true
   },
   "outputs": [
    {
     "name": "stdout",
     "output_type": "stream",
     "text": [
      "Group size 2\n",
      "  Blue wins: time 2.07, 1 vs 0 alive, 50% vs 0% HP\n",
      "  Blue wins: time 2.87, 1 vs 0 alive, 50% vs 0% HP\n",
      "  Blue wins: time 3.76, 1 vs 0 alive, 50% vs 0% HP\n",
      "  Red wins: time 3.18, 0 vs 1 alive, 0% vs 50% HP\n",
      "Group size 3\n",
      "  Blue wins: time 2.41, 2 vs 0 alive, 54% vs 0% HP\n",
      "  Blue wins: time 3.35, 2 vs 0 alive, 52% vs 0% HP\n",
      "  Blue wins: time 4.39, 2 vs 0 alive, 51% vs 0% HP\n",
      "  Red wins: time 5.3, 0 vs 1 alive, 0% vs 33% HP\n",
      "Group size 4\n",
      "  Blue wins: time 2.41, 3 vs 0 alive, 54% vs 0% HP\n",
      "  Blue wins: time 3.35, 3 vs 0 alive, 53% vs 0% HP\n",
      "  Blue wins: time 4.39, 3 vs 0 alive, 50% vs 0% HP\n",
      "  Red wins: time 5.3, 0 vs 2 alive, 0% vs 38% HP\n"
     ]
    }
   ],
   "source": [
    "# Action point testing\n",
    "for group_size in range(2, 5):\n",
    "    print(f\"Group size {group_size}\")\n",
    "    quick_combat(\n",
    "        ['fighter power_attack blessing_of_might' for i in range(group_size)],\n",
    "        ['fighter power_attack revelation' for i in range(group_size)],\n",
    "        'std',\n",
    "    )"
   ]
  },
  {
   "cell_type": "code",
   "execution_count": 4,
   "metadata": {
    "collapsed": false,
    "deletable": true,
    "editable": true
   },
   "outputs": [
    {
     "name": "stdout",
     "output_type": "stream",
     "text": [
      "Group size 3\n",
      "  Red wins: time 8.18, 0 vs 1 alive, 0% vs 74% HP\n",
      "  Red wins: time 10.91, 0 vs 1 alive, 0% vs 75% HP\n",
      "  Red wins: time 11.28, 0 vs 1 alive, 0% vs 76% HP\n",
      "  Red wins: time 8.93, 0 vs 1 alive, 0% vs 73% HP\n",
      "Group size 4\n",
      "  Red wins: time 10.91, 0 vs 1 alive, 0% vs 57% HP\n",
      "  Red wins: time 14.55, 0 vs 1 alive, 0% vs 58% HP\n",
      "  Red wins: time 15.04, 0 vs 1 alive, 0% vs 59% HP\n",
      "  Red wins: time 11.9, 0 vs 1 alive, 0% vs 54% HP\n",
      "Group size 5\n",
      "  Red wins: time 13.64, 0 vs 1 alive, 0% vs 35% HP\n",
      "  Red wins: time 18.18, 0 vs 1 alive, 0% vs 36% HP\n",
      "  Red wins: time 18.8, 0 vs 1 alive, 0% vs 38% HP\n",
      "  Red wins: time 14.88, 0 vs 1 alive, 0% vs 30% HP\n",
      "Group size 6\n",
      "  Blue wins: time 16.18, 1 vs 0 alive, 1% vs 0% HP\n",
      "  Red wins: time 21.82, 0 vs 1 alive, 0% vs 3% HP\n",
      "  Red wins: time 22.56, 0 vs 1 alive, 0% vs 9% HP\n",
      "  Blue wins: time 15.06, 1 vs 0 alive, 16% vs 0% HP\n"
     ]
    }
   ],
   "source": [
    "# Aboleth testing\n",
    "for group_size in range(3, 7):\n",
    "    print(f\"Group size {group_size}\")\n",
    "    quick_combat(\n",
    "        ['fighter power_attack' for i in range(group_size)],\n",
    "        ['aboleth'],\n",
    "        'std',\n",
    "    )"
   ]
  }
 ],
 "metadata": {
  "kernelspec": {
   "display_name": "Python 3",
   "language": "python",
   "name": "python3"
  },
  "language_info": {
   "codemirror_mode": {
    "name": "ipython",
    "version": 3
   },
   "file_extension": ".py",
   "mimetype": "text/x-python",
   "name": "python",
   "nbconvert_exporter": "python",
   "pygments_lexer": "ipython3",
   "version": "3.6.6"
  }
 },
 "nbformat": 4,
 "nbformat_minor": 2
}
