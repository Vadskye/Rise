{
 "cells": [
  {
   "cell_type": "code",
   "execution_count": 8,
   "metadata": {
    "collapsed": false,
    "deletable": true,
    "editable": true
   },
   "outputs": [
    {
     "data": {
      "text/plain": [
       "<module 'rise.statistics.sample_creatures' from '/home/kevin/github/Rise/python/rise/statistics/sample_creatures.py'>"
      ]
     },
     "execution_count": 8,
     "metadata": {},
     "output_type": "execute_result"
    }
   ],
   "source": [
    "import importlib\n",
    "import rise.statistics.sample_creatures as sample_creatures\n",
    "importlib.reload(sample_creatures)"
   ]
  },
  {
   "cell_type": "code",
   "execution_count": 9,
   "metadata": {
    "collapsed": false,
    "deletable": true,
    "editable": true
   },
   "outputs": [
    {
     "name": "stdout",
     "output_type": "stream",
     "text": [
      "4 aboleth\n",
      "-1 eel\n",
      "-1 black_bear\n",
      "-1 brown_bear\n",
      "-1 dire_wolf\n",
      "0 ferret\n",
      "2 pony\n",
      "0 raven\n",
      "1 roc\n",
      "1 wasp\n",
      "0 wolf\n",
      "0 dire_beetle\n",
      "0 huge_centipede\n",
      "-2 spider_large\n",
      "0 spider_huge\n",
      "0 spider_gargantuan\n",
      "0 spider_colossal\n",
      "-2 spider_gargantuan_alt\n",
      "0 elemental_air\n",
      "1 ram_animus\n",
      "1 earth_elemental_elder\n",
      "4 cultist\n",
      "4 goblin_shouter\n",
      "2 goblin_stabber\n",
      "1 orc_chieftain\n",
      "2 orc_grunt\n",
      "2 orc_loudmouth\n",
      "1 orc_shaman\n",
      "1 orc_savage\n",
      "0 medium_red_dragon\n",
      "0 large_red_dragon\n",
      "2 huge_red_dragon\n",
      "-2 gargantuan_red_dragon\n",
      "0 colossal_red_dragon\n",
      "1 ankheg\n",
      "3 aranea\n",
      "4 basilisk\n",
      "2 behir\n",
      "1 blink_dog\n",
      "-2 centaur\n",
      "1 cockatrice\n",
      "2 darkmantle\n",
      "3 frost_worm\n",
      "1 girallon\n",
      "1 griffin\n",
      "6 hydra5\n",
      "8 hydra6\n",
      "0 minotaur\n",
      "0 thaumavore\n",
      "3 banehound\n",
      "1 banshee\n",
      "0 hill_giant\n",
      "-1 stone_giant\n",
      "-1 storm_giant\n",
      "4 green_hag\n",
      "15 medusa\n",
      "0 harpy_archer\n",
      "3 astral_deva\n",
      "1 arrowhawk\n",
      "12 bebelith\n",
      "5 hell_hound\n",
      "-2 flamebrother_salamander\n",
      "-3 janni\n",
      "7 salamander_battlemaster\n",
      "4 allip\n",
      "8 spectre\n",
      "2 dirgewalker\n",
      "0 skeleton\n",
      "2 skeleton_warrior\n",
      "0 zombie\n"
     ]
    }
   ],
   "source": [
    "monsters = sample_creatures.generate_sample_monsters()\n",
    "for name in monsters.keys():\n",
    "    m = monsters[name]\n",
    "    print(m.expected_monster_points() - m.monster_point_total(), name)"
   ]
  }
 ],
 "metadata": {
  "kernelspec": {
   "display_name": "Python 3",
   "language": "python",
   "name": "python3"
  },
  "language_info": {
   "codemirror_mode": {
    "name": "ipython",
    "version": 3
   },
   "file_extension": ".py",
   "mimetype": "text/x-python",
   "name": "python",
   "nbconvert_exporter": "python",
   "pygments_lexer": "ipython3",
   "version": "3.6.6"
  }
 },
 "nbformat": 4,
 "nbformat_minor": 2
}
